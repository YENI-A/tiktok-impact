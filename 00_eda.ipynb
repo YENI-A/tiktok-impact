{
 "cells": [
  {
   "cell_type": "markdown",
   "id": "11484802",
   "metadata": {},
   "source": [
    "\n",
    "# 📊 Analyse Exploratoire des Données - TikTok Impact\n",
    "Ce notebook effectue une **exploration complète** des données synthétiques des étudiants au Bénin pour le projet TikTok Impact.\n"
   ]
  },
  {
   "cell_type": "code",
   "execution_count": null,
   "id": "1e7989ee",
   "metadata": {},
   "outputs": [],
   "source": [
    "\n",
    "import pandas as pd\n",
    "import numpy as np\n",
    "import matplotlib.pyplot as plt\n",
    "import seaborn as sns\n",
    "\n",
    "sns.set(style=\"whitegrid\")\n",
    "%matplotlib inline\n"
   ]
  },
  {
   "cell_type": "code",
   "execution_count": null,
   "id": "0f1bd4c2",
   "metadata": {},
   "outputs": [],
   "source": [
    "\n",
    "df = pd.read_csv('../data/raw/tiktok_students.csv')\n",
    "df.head()\n"
   ]
  },
  {
   "cell_type": "code",
   "execution_count": null,
   "id": "875ada16",
   "metadata": {},
   "outputs": [],
   "source": [
    "\n",
    "df.info()\n",
    "df.describe()\n",
    "df.isnull().sum()\n"
   ]
  },
  {
   "cell_type": "code",
   "execution_count": null,
   "id": "8b796105",
   "metadata": {},
   "outputs": [],
   "source": [
    "\n",
    "plt.figure(figsize=(8,5))\n",
    "sns.histplot(df['age'], bins=15, kde=True)\n",
    "plt.title(\"Distribution de l'âge\")\n",
    "plt.show()\n",
    "\n",
    "plt.figure(figsize=(6,4))\n",
    "sns.countplot(data=df, x='sex')\n",
    "plt.title(\"Répartition des sexes\")\n",
    "plt.show()\n",
    "\n",
    "plt.figure(figsize=(8,5))\n",
    "sns.histplot(df['hours_tiktok_per_day'], bins=10, kde=True)\n",
    "plt.title(\"Heures passées sur TikTok par jour\")\n",
    "plt.show()\n"
   ]
  },
  {
   "cell_type": "code",
   "execution_count": null,
   "id": "240f608e",
   "metadata": {},
   "outputs": [],
   "source": [
    "\n",
    "numeric_df = df.select_dtypes(include=np.number)\n",
    "corr = numeric_df.corr()\n",
    "\n",
    "plt.figure(figsize=(10,8))\n",
    "sns.heatmap(corr, annot=True, cmap='coolwarm')\n",
    "plt.title(\"Matrice de corrélation\")\n",
    "plt.show()\n"
   ]
  },
  {
   "cell_type": "code",
   "execution_count": null,
   "id": "4739d421",
   "metadata": {},
   "outputs": [],
   "source": [
    "\n",
    "plt.figure(figsize=(8,5))\n",
    "sns.scatterplot(data=df, x='hours_tiktok_per_day', y='sleep_hours')\n",
    "plt.title(\"Relation entre temps TikTok et sommeil\")\n",
    "plt.show()\n",
    "\n",
    "plt.figure(figsize=(8,5))\n",
    "sns.scatterplot(data=df, x='hours_tiktok_per_day', y='study_hours')\n",
    "plt.title(\"Relation entre temps TikTok et heures d'étude\")\n",
    "plt.show()\n"
   ]
  }
 ],
 "metadata": {},
 "nbformat": 4,
 "nbformat_minor": 5
}
